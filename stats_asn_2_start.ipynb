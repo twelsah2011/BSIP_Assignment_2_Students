{
 "cells": [
  {
   "cell_type": "code",
   "execution_count": 1,
   "metadata": {},
   "outputs": [],
   "source": [
    "#import thinkplot\n",
    "#import thinkstats2\n",
    "import pandas as pd\n",
    "import numpy as np\n",
    "import math\n",
    "import scipy.stats as ss\n",
    "import thinkplot\n",
    "import thinkstats2\n",
    "\n",
    "##Seaborn for fancy plots. \n",
    "import matplotlib.pyplot as plt\n",
    "import seaborn as sns\n",
    "plt.rcParams[\"figure.figsize\"] = (15,5)"
   ]
  },
  {
   "cell_type": "markdown",
   "metadata": {},
   "source": [
    "<h1>Assignment 2: Life Expectancy and You!</h1>\n",
    "\n",
    "<b>Instructions:</b>\n",
    "<ul>\n",
    "<li>Use the worksheet below to act as a guide to exploring and examining the data in the dataset.\n",
    "<li>Try to make things easy to read. Look at the formatting stuff above. \n",
    "<li>As long as you do what is asked, you can do things in many different ways. You may need to do a little searching. \n",
    "</ul>\n",
    "\n",
    "### Please Use Formatting to Make it Clear What I Should be Looking at! Please!!! I Beg You!!!"
   ]
  },
  {
   "cell_type": "code",
   "execution_count": 2,
   "metadata": {},
   "outputs": [
    {
     "data": {
      "text/html": [
       "<div>\n",
       "<style scoped>\n",
       "    .dataframe tbody tr th:only-of-type {\n",
       "        vertical-align: middle;\n",
       "    }\n",
       "\n",
       "    .dataframe tbody tr th {\n",
       "        vertical-align: top;\n",
       "    }\n",
       "\n",
       "    .dataframe thead th {\n",
       "        text-align: right;\n",
       "    }\n",
       "</style>\n",
       "<table border=\"1\" class=\"dataframe\">\n",
       "  <thead>\n",
       "    <tr style=\"text-align: right;\">\n",
       "      <th></th>\n",
       "      <th>Country</th>\n",
       "      <th>isDeveloped</th>\n",
       "      <th>Lifeexpectancy</th>\n",
       "      <th>AdultMortality</th>\n",
       "      <th>infantdeaths</th>\n",
       "      <th>Alcohol</th>\n",
       "      <th>HepatitisB</th>\n",
       "      <th>Measles</th>\n",
       "      <th>BMI</th>\n",
       "      <th>under-fivedeaths</th>\n",
       "      <th>Polio</th>\n",
       "      <th>Diphtheria</th>\n",
       "      <th>GDP</th>\n",
       "      <th>Population</th>\n",
       "      <th>Schooling</th>\n",
       "    </tr>\n",
       "  </thead>\n",
       "  <tbody>\n",
       "    <tr>\n",
       "      <th>0</th>\n",
       "      <td>Afghanistan</td>\n",
       "      <td>0.0</td>\n",
       "      <td>58.19375</td>\n",
       "      <td>269.0625</td>\n",
       "      <td>78.2500</td>\n",
       "      <td>0.014375</td>\n",
       "      <td>64.562500</td>\n",
       "      <td>2362.2500</td>\n",
       "      <td>15.51875</td>\n",
       "      <td>107.5625</td>\n",
       "      <td>48.3750</td>\n",
       "      <td>52.3125</td>\n",
       "      <td>4.136734e+09</td>\n",
       "      <td>9.972260e+06</td>\n",
       "      <td>8.21250</td>\n",
       "    </tr>\n",
       "    <tr>\n",
       "      <th>1</th>\n",
       "      <td>Albania</td>\n",
       "      <td>0.0</td>\n",
       "      <td>75.15625</td>\n",
       "      <td>45.0625</td>\n",
       "      <td>0.6875</td>\n",
       "      <td>4.848750</td>\n",
       "      <td>98.000000</td>\n",
       "      <td>53.3750</td>\n",
       "      <td>49.06875</td>\n",
       "      <td>0.9375</td>\n",
       "      <td>98.1250</td>\n",
       "      <td>98.0625</td>\n",
       "      <td>1.166938e+09</td>\n",
       "      <td>6.969116e+05</td>\n",
       "      <td>12.13750</td>\n",
       "    </tr>\n",
       "    <tr>\n",
       "      <th>2</th>\n",
       "      <td>Algeria</td>\n",
       "      <td>0.0</td>\n",
       "      <td>73.61875</td>\n",
       "      <td>108.1875</td>\n",
       "      <td>20.3125</td>\n",
       "      <td>0.406667</td>\n",
       "      <td>78.000000</td>\n",
       "      <td>1943.8750</td>\n",
       "      <td>48.74375</td>\n",
       "      <td>23.5000</td>\n",
       "      <td>91.7500</td>\n",
       "      <td>91.8750</td>\n",
       "      <td>7.345597e+10</td>\n",
       "      <td>2.164983e+07</td>\n",
       "      <td>12.71250</td>\n",
       "    </tr>\n",
       "    <tr>\n",
       "      <th>3</th>\n",
       "      <td>Angola</td>\n",
       "      <td>0.0</td>\n",
       "      <td>49.01875</td>\n",
       "      <td>328.5625</td>\n",
       "      <td>83.7500</td>\n",
       "      <td>5.740667</td>\n",
       "      <td>70.222222</td>\n",
       "      <td>3561.3125</td>\n",
       "      <td>18.01875</td>\n",
       "      <td>132.6250</td>\n",
       "      <td>46.1250</td>\n",
       "      <td>47.6875</td>\n",
       "      <td>2.177835e+10</td>\n",
       "      <td>1.014710e+07</td>\n",
       "      <td>8.04375</td>\n",
       "    </tr>\n",
       "    <tr>\n",
       "      <th>4</th>\n",
       "      <td>AntiguaandBarbuda</td>\n",
       "      <td>0.0</td>\n",
       "      <td>75.05625</td>\n",
       "      <td>127.5000</td>\n",
       "      <td>0.0000</td>\n",
       "      <td>7.949333</td>\n",
       "      <td>98.266667</td>\n",
       "      <td>0.0000</td>\n",
       "      <td>38.42500</td>\n",
       "      <td>0.0000</td>\n",
       "      <td>96.9375</td>\n",
       "      <td>98.3125</td>\n",
       "      <td>0.000000e+00</td>\n",
       "      <td>NaN</td>\n",
       "      <td>8.84375</td>\n",
       "    </tr>\n",
       "  </tbody>\n",
       "</table>\n",
       "</div>"
      ],
      "text/plain": [
       "             Country  isDeveloped  Lifeexpectancy  AdultMortality  \\\n",
       "0        Afghanistan          0.0        58.19375        269.0625   \n",
       "1            Albania          0.0        75.15625         45.0625   \n",
       "2            Algeria          0.0        73.61875        108.1875   \n",
       "3             Angola          0.0        49.01875        328.5625   \n",
       "4  AntiguaandBarbuda          0.0        75.05625        127.5000   \n",
       "\n",
       "   infantdeaths   Alcohol  HepatitisB    Measles       BMI  under-fivedeaths  \\\n",
       "0       78.2500  0.014375   64.562500  2362.2500  15.51875          107.5625   \n",
       "1        0.6875  4.848750   98.000000    53.3750  49.06875            0.9375   \n",
       "2       20.3125  0.406667   78.000000  1943.8750  48.74375           23.5000   \n",
       "3       83.7500  5.740667   70.222222  3561.3125  18.01875          132.6250   \n",
       "4        0.0000  7.949333   98.266667     0.0000  38.42500            0.0000   \n",
       "\n",
       "     Polio  Diphtheria           GDP    Population  Schooling  \n",
       "0  48.3750     52.3125  4.136734e+09  9.972260e+06    8.21250  \n",
       "1  98.1250     98.0625  1.166938e+09  6.969116e+05   12.13750  \n",
       "2  91.7500     91.8750  7.345597e+10  2.164983e+07   12.71250  \n",
       "3  46.1250     47.6875  2.177835e+10  1.014710e+07    8.04375  \n",
       "4  96.9375     98.3125  0.000000e+00           NaN    8.84375  "
      ]
     },
     "execution_count": 2,
     "metadata": {},
     "output_type": "execute_result"
    }
   ],
   "source": [
    "#Load data and do some cleanup before starting\n",
    "#Please don't change this stuff. \n",
    "dfLE = pd.read_csv(\"led.csv\")\n",
    "dfLE.rename(columns={\"Status\":\"isDeveloped\", }, inplace=True)\n",
    "dfLE[\"isDeveloped\"].replace(('Developed', 'Developing'), (1, 0), inplace=True)\n",
    "dfLE = dfLE.drop(columns={\"Year\", \"Incomecompositionofresources\", \"thinness5-9years\", \"HIV/AIDS\", \"percentageexpenditure\", \"Totalexpenditure\", \"thinness1-19years\"})\n",
    "dfLE = dfLE.groupby(\"Country\", as_index=False).mean()\n",
    "dfLE.head()\n"
   ]
  },
  {
   "cell_type": "markdown",
   "metadata": {},
   "source": [
    "<h2>Part 1: Add a column for GDP per Capita (5pts)</h2>\n",
    "\n",
    "Show print the labels along with just that column. Print 10 random rows of that data. \n",
    "\n",
    "Note: you'll have to look at the units to ensure you get it right. "
   ]
  },
  {
   "cell_type": "code",
   "execution_count": 3,
   "metadata": {},
   "outputs": [
    {
     "data": {
      "text/html": [
       "<div>\n",
       "<style scoped>\n",
       "    .dataframe tbody tr th:only-of-type {\n",
       "        vertical-align: middle;\n",
       "    }\n",
       "\n",
       "    .dataframe tbody tr th {\n",
       "        vertical-align: top;\n",
       "    }\n",
       "\n",
       "    .dataframe thead th {\n",
       "        text-align: right;\n",
       "    }\n",
       "</style>\n",
       "<table border=\"1\" class=\"dataframe\">\n",
       "  <thead>\n",
       "    <tr style=\"text-align: right;\">\n",
       "      <th></th>\n",
       "      <th>Country</th>\n",
       "      <th>isDeveloped</th>\n",
       "      <th>Lifeexpectancy</th>\n",
       "      <th>AdultMortality</th>\n",
       "      <th>infantdeaths</th>\n",
       "      <th>Alcohol</th>\n",
       "      <th>HepatitisB</th>\n",
       "      <th>Measles</th>\n",
       "      <th>BMI</th>\n",
       "      <th>under-fivedeaths</th>\n",
       "      <th>Polio</th>\n",
       "      <th>Diphtheria</th>\n",
       "      <th>GDP</th>\n",
       "      <th>Population</th>\n",
       "      <th>Schooling</th>\n",
       "    </tr>\n",
       "  </thead>\n",
       "  <tbody>\n",
       "    <tr>\n",
       "      <th>0</th>\n",
       "      <td>Afghanistan</td>\n",
       "      <td>0.0</td>\n",
       "      <td>58.19375</td>\n",
       "      <td>269.0625</td>\n",
       "      <td>78.2500</td>\n",
       "      <td>0.014375</td>\n",
       "      <td>64.562500</td>\n",
       "      <td>2362.2500</td>\n",
       "      <td>15.51875</td>\n",
       "      <td>107.5625</td>\n",
       "      <td>48.3750</td>\n",
       "      <td>52.3125</td>\n",
       "      <td>4.136734e+09</td>\n",
       "      <td>9.972260e+06</td>\n",
       "      <td>8.21250</td>\n",
       "    </tr>\n",
       "    <tr>\n",
       "      <th>1</th>\n",
       "      <td>Albania</td>\n",
       "      <td>0.0</td>\n",
       "      <td>75.15625</td>\n",
       "      <td>45.0625</td>\n",
       "      <td>0.6875</td>\n",
       "      <td>4.848750</td>\n",
       "      <td>98.000000</td>\n",
       "      <td>53.3750</td>\n",
       "      <td>49.06875</td>\n",
       "      <td>0.9375</td>\n",
       "      <td>98.1250</td>\n",
       "      <td>98.0625</td>\n",
       "      <td>1.166938e+09</td>\n",
       "      <td>6.969116e+05</td>\n",
       "      <td>12.13750</td>\n",
       "    </tr>\n",
       "    <tr>\n",
       "      <th>2</th>\n",
       "      <td>Algeria</td>\n",
       "      <td>0.0</td>\n",
       "      <td>73.61875</td>\n",
       "      <td>108.1875</td>\n",
       "      <td>20.3125</td>\n",
       "      <td>0.406667</td>\n",
       "      <td>78.000000</td>\n",
       "      <td>1943.8750</td>\n",
       "      <td>48.74375</td>\n",
       "      <td>23.5000</td>\n",
       "      <td>91.7500</td>\n",
       "      <td>91.8750</td>\n",
       "      <td>7.345597e+10</td>\n",
       "      <td>2.164983e+07</td>\n",
       "      <td>12.71250</td>\n",
       "    </tr>\n",
       "    <tr>\n",
       "      <th>3</th>\n",
       "      <td>Angola</td>\n",
       "      <td>0.0</td>\n",
       "      <td>49.01875</td>\n",
       "      <td>328.5625</td>\n",
       "      <td>83.7500</td>\n",
       "      <td>5.740667</td>\n",
       "      <td>70.222222</td>\n",
       "      <td>3561.3125</td>\n",
       "      <td>18.01875</td>\n",
       "      <td>132.6250</td>\n",
       "      <td>46.1250</td>\n",
       "      <td>47.6875</td>\n",
       "      <td>2.177835e+10</td>\n",
       "      <td>1.014710e+07</td>\n",
       "      <td>8.04375</td>\n",
       "    </tr>\n",
       "    <tr>\n",
       "      <th>4</th>\n",
       "      <td>AntiguaandBarbuda</td>\n",
       "      <td>0.0</td>\n",
       "      <td>75.05625</td>\n",
       "      <td>127.5000</td>\n",
       "      <td>0.0000</td>\n",
       "      <td>7.949333</td>\n",
       "      <td>98.266667</td>\n",
       "      <td>0.0000</td>\n",
       "      <td>38.42500</td>\n",
       "      <td>0.0000</td>\n",
       "      <td>96.9375</td>\n",
       "      <td>98.3125</td>\n",
       "      <td>0.000000e+00</td>\n",
       "      <td>NaN</td>\n",
       "      <td>8.84375</td>\n",
       "    </tr>\n",
       "    <tr>\n",
       "      <th>5</th>\n",
       "      <td>Argentina</td>\n",
       "      <td>0.0</td>\n",
       "      <td>75.15625</td>\n",
       "      <td>106.0000</td>\n",
       "      <td>10.1250</td>\n",
       "      <td>7.966667</td>\n",
       "      <td>81.285714</td>\n",
       "      <td>2.0000</td>\n",
       "      <td>54.98125</td>\n",
       "      <td>11.3750</td>\n",
       "      <td>93.3750</td>\n",
       "      <td>92.3750</td>\n",
       "      <td>1.641579e+11</td>\n",
       "      <td>2.012120e+07</td>\n",
       "      <td>16.50625</td>\n",
       "    </tr>\n",
       "    <tr>\n",
       "      <th>6</th>\n",
       "      <td>Armenia</td>\n",
       "      <td>0.0</td>\n",
       "      <td>73.40000</td>\n",
       "      <td>117.3750</td>\n",
       "      <td>1.0000</td>\n",
       "      <td>3.702667</td>\n",
       "      <td>87.562500</td>\n",
       "      <td>274.2500</td>\n",
       "      <td>44.70625</td>\n",
       "      <td>1.0000</td>\n",
       "      <td>89.1250</td>\n",
       "      <td>87.3750</td>\n",
       "      <td>2.901137e+09</td>\n",
       "      <td>1.015165e+06</td>\n",
       "      <td>11.78750</td>\n",
       "    </tr>\n",
       "    <tr>\n",
       "      <th>7</th>\n",
       "      <td>Australia</td>\n",
       "      <td>1.0</td>\n",
       "      <td>81.81250</td>\n",
       "      <td>63.1875</td>\n",
       "      <td>1.0000</td>\n",
       "      <td>10.155333</td>\n",
       "      <td>93.400000</td>\n",
       "      <td>103.9375</td>\n",
       "      <td>55.86250</td>\n",
       "      <td>1.3750</td>\n",
       "      <td>86.7500</td>\n",
       "      <td>86.8750</td>\n",
       "      <td>2.905302e+11</td>\n",
       "      <td>4.587010e+06</td>\n",
       "      <td>20.03750</td>\n",
       "    </tr>\n",
       "    <tr>\n",
       "      <th>8</th>\n",
       "      <td>Austria</td>\n",
       "      <td>1.0</td>\n",
       "      <td>81.48125</td>\n",
       "      <td>65.7500</td>\n",
       "      <td>0.0000</td>\n",
       "      <td>12.236000</td>\n",
       "      <td>81.062500</td>\n",
       "      <td>77.2500</td>\n",
       "      <td>48.28750</td>\n",
       "      <td>0.0000</td>\n",
       "      <td>86.0000</td>\n",
       "      <td>86.7500</td>\n",
       "      <td>2.259544e+11</td>\n",
       "      <td>6.474880e+06</td>\n",
       "      <td>15.38750</td>\n",
       "    </tr>\n",
       "    <tr>\n",
       "      <th>9</th>\n",
       "      <td>Azerbaijan</td>\n",
       "      <td>0.0</td>\n",
       "      <td>70.73125</td>\n",
       "      <td>115.1875</td>\n",
       "      <td>6.0625</td>\n",
       "      <td>0.992000</td>\n",
       "      <td>59.214286</td>\n",
       "      <td>598.1875</td>\n",
       "      <td>43.84375</td>\n",
       "      <td>7.1875</td>\n",
       "      <td>75.8125</td>\n",
       "      <td>82.3125</td>\n",
       "      <td>6.669684e+09</td>\n",
       "      <td>2.157370e+06</td>\n",
       "      <td>11.35000</td>\n",
       "    </tr>\n",
       "  </tbody>\n",
       "</table>\n",
       "</div>"
      ],
      "text/plain": [
       "             Country  isDeveloped  Lifeexpectancy  AdultMortality  \\\n",
       "0        Afghanistan          0.0        58.19375        269.0625   \n",
       "1            Albania          0.0        75.15625         45.0625   \n",
       "2            Algeria          0.0        73.61875        108.1875   \n",
       "3             Angola          0.0        49.01875        328.5625   \n",
       "4  AntiguaandBarbuda          0.0        75.05625        127.5000   \n",
       "5          Argentina          0.0        75.15625        106.0000   \n",
       "6            Armenia          0.0        73.40000        117.3750   \n",
       "7          Australia          1.0        81.81250         63.1875   \n",
       "8            Austria          1.0        81.48125         65.7500   \n",
       "9         Azerbaijan          0.0        70.73125        115.1875   \n",
       "\n",
       "   infantdeaths    Alcohol  HepatitisB    Measles       BMI  under-fivedeaths  \\\n",
       "0       78.2500   0.014375   64.562500  2362.2500  15.51875          107.5625   \n",
       "1        0.6875   4.848750   98.000000    53.3750  49.06875            0.9375   \n",
       "2       20.3125   0.406667   78.000000  1943.8750  48.74375           23.5000   \n",
       "3       83.7500   5.740667   70.222222  3561.3125  18.01875          132.6250   \n",
       "4        0.0000   7.949333   98.266667     0.0000  38.42500            0.0000   \n",
       "5       10.1250   7.966667   81.285714     2.0000  54.98125           11.3750   \n",
       "6        1.0000   3.702667   87.562500   274.2500  44.70625            1.0000   \n",
       "7        1.0000  10.155333   93.400000   103.9375  55.86250            1.3750   \n",
       "8        0.0000  12.236000   81.062500    77.2500  48.28750            0.0000   \n",
       "9        6.0625   0.992000   59.214286   598.1875  43.84375            7.1875   \n",
       "\n",
       "     Polio  Diphtheria           GDP    Population  Schooling  \n",
       "0  48.3750     52.3125  4.136734e+09  9.972260e+06    8.21250  \n",
       "1  98.1250     98.0625  1.166938e+09  6.969116e+05   12.13750  \n",
       "2  91.7500     91.8750  7.345597e+10  2.164983e+07   12.71250  \n",
       "3  46.1250     47.6875  2.177835e+10  1.014710e+07    8.04375  \n",
       "4  96.9375     98.3125  0.000000e+00           NaN    8.84375  \n",
       "5  93.3750     92.3750  1.641579e+11  2.012120e+07   16.50625  \n",
       "6  89.1250     87.3750  2.901137e+09  1.015165e+06   11.78750  \n",
       "7  86.7500     86.8750  2.905302e+11  4.587010e+06   20.03750  \n",
       "8  86.0000     86.7500  2.259544e+11  6.474880e+06   15.38750  \n",
       "9  75.8125     82.3125  6.669684e+09  2.157370e+06   11.35000  "
      ]
     },
     "execution_count": 3,
     "metadata": {},
     "output_type": "execute_result"
    }
   ],
   "source": [
    "# copy to a new dataframe\n",
    "df_gdp = dfLE.copy()\n",
    "df_gdp.head(10)"
   ]
  },
  {
   "cell_type": "code",
   "execution_count": 4,
   "metadata": {},
   "outputs": [
    {
     "data": {
      "text/plain": [
       "42     13697.060587\n",
       "168     3900.215126\n",
       "100      272.167509\n",
       "135             NaN\n",
       "117      441.919527\n",
       "10              NaN\n",
       "169             NaN\n",
       "61      5471.491381\n",
       "79      3272.696417\n",
       "66     24099.375234\n",
       "Name: GDP_capita, dtype: float64"
      ]
     },
     "execution_count": 4,
     "metadata": {},
     "output_type": "execute_result"
    }
   ],
   "source": [
    "#Part 1\n",
    "df_gdp['GDP_capita'] = dfLE['GDP'] / dfLE['Population']\n",
    "df_gdp['GDP_capita'].sample(10)"
   ]
  },
  {
   "cell_type": "code",
   "execution_count": 5,
   "metadata": {},
   "outputs": [
    {
     "data": {
      "text/html": [
       "<div>\n",
       "<style scoped>\n",
       "    .dataframe tbody tr th:only-of-type {\n",
       "        vertical-align: middle;\n",
       "    }\n",
       "\n",
       "    .dataframe tbody tr th {\n",
       "        vertical-align: top;\n",
       "    }\n",
       "\n",
       "    .dataframe thead th {\n",
       "        text-align: right;\n",
       "    }\n",
       "</style>\n",
       "<table border=\"1\" class=\"dataframe\">\n",
       "  <thead>\n",
       "    <tr style=\"text-align: right;\">\n",
       "      <th></th>\n",
       "      <th>isDeveloped</th>\n",
       "      <th>Lifeexpectancy</th>\n",
       "      <th>AdultMortality</th>\n",
       "      <th>infantdeaths</th>\n",
       "      <th>Alcohol</th>\n",
       "      <th>HepatitisB</th>\n",
       "      <th>Measles</th>\n",
       "      <th>BMI</th>\n",
       "      <th>under-fivedeaths</th>\n",
       "      <th>Polio</th>\n",
       "      <th>Diphtheria</th>\n",
       "      <th>GDP</th>\n",
       "      <th>Population</th>\n",
       "      <th>Schooling</th>\n",
       "      <th>GDP_capita</th>\n",
       "    </tr>\n",
       "  </thead>\n",
       "  <tbody>\n",
       "    <tr>\n",
       "      <th>count</th>\n",
       "      <td>133.000000</td>\n",
       "      <td>133.000000</td>\n",
       "      <td>133.000000</td>\n",
       "      <td>133.000000</td>\n",
       "      <td>133.000000</td>\n",
       "      <td>133.000000</td>\n",
       "      <td>133.000000</td>\n",
       "      <td>133.000000</td>\n",
       "      <td>133.000000</td>\n",
       "      <td>133.000000</td>\n",
       "      <td>133.000000</td>\n",
       "      <td>1.330000e+02</td>\n",
       "      <td>1.330000e+02</td>\n",
       "      <td>133.000000</td>\n",
       "      <td>133.000000</td>\n",
       "    </tr>\n",
       "    <tr>\n",
       "      <th>mean</th>\n",
       "      <td>0.142857</td>\n",
       "      <td>68.139709</td>\n",
       "      <td>174.300282</td>\n",
       "      <td>35.902726</td>\n",
       "      <td>4.436893</td>\n",
       "      <td>77.272061</td>\n",
       "      <td>2657.467105</td>\n",
       "      <td>36.691964</td>\n",
       "      <td>49.817199</td>\n",
       "      <td>80.572006</td>\n",
       "      <td>80.699919</td>\n",
       "      <td>6.023285e+10</td>\n",
       "      <td>1.340066e+07</td>\n",
       "      <td>11.691823</td>\n",
       "      <td>5831.130877</td>\n",
       "    </tr>\n",
       "    <tr>\n",
       "      <th>std</th>\n",
       "      <td>0.351250</td>\n",
       "      <td>9.254200</td>\n",
       "      <td>97.065845</td>\n",
       "      <td>133.819254</td>\n",
       "      <td>3.736886</td>\n",
       "      <td>17.174868</td>\n",
       "      <td>8473.612218</td>\n",
       "      <td>15.971021</td>\n",
       "      <td>181.414641</td>\n",
       "      <td>15.732438</td>\n",
       "      <td>16.431339</td>\n",
       "      <td>1.506979e+11</td>\n",
       "      <td>3.972571e+07</td>\n",
       "      <td>3.006460</td>\n",
       "      <td>10101.737928</td>\n",
       "    </tr>\n",
       "    <tr>\n",
       "      <th>min</th>\n",
       "      <td>0.000000</td>\n",
       "      <td>46.112500</td>\n",
       "      <td>18.750000</td>\n",
       "      <td>0.000000</td>\n",
       "      <td>0.010000</td>\n",
       "      <td>9.000000</td>\n",
       "      <td>0.000000</td>\n",
       "      <td>12.875000</td>\n",
       "      <td>0.000000</td>\n",
       "      <td>32.875000</td>\n",
       "      <td>26.812500</td>\n",
       "      <td>8.988098e+06</td>\n",
       "      <td>3.334250e+03</td>\n",
       "      <td>4.018750</td>\n",
       "      <td>117.466394</td>\n",
       "    </tr>\n",
       "    <tr>\n",
       "      <th>25%</th>\n",
       "      <td>0.000000</td>\n",
       "      <td>60.862500</td>\n",
       "      <td>114.312500</td>\n",
       "      <td>0.687500</td>\n",
       "      <td>1.074667</td>\n",
       "      <td>66.500000</td>\n",
       "      <td>15.125000</td>\n",
       "      <td>19.293750</td>\n",
       "      <td>1.000000</td>\n",
       "      <td>69.625000</td>\n",
       "      <td>70.500000</td>\n",
       "      <td>1.213512e+09</td>\n",
       "      <td>1.007302e+06</td>\n",
       "      <td>9.868750</td>\n",
       "      <td>685.958218</td>\n",
       "    </tr>\n",
       "    <tr>\n",
       "      <th>50%</th>\n",
       "      <td>0.000000</td>\n",
       "      <td>70.731250</td>\n",
       "      <td>154.312500</td>\n",
       "      <td>3.312500</td>\n",
       "      <td>3.807333</td>\n",
       "      <td>79.600000</td>\n",
       "      <td>251.937500</td>\n",
       "      <td>39.743750</td>\n",
       "      <td>4.000000</td>\n",
       "      <td>84.375000</td>\n",
       "      <td>84.500000</td>\n",
       "      <td>6.161290e+09</td>\n",
       "      <td>3.735507e+06</td>\n",
       "      <td>12.000000</td>\n",
       "      <td>2306.960717</td>\n",
       "    </tr>\n",
       "    <tr>\n",
       "      <th>75%</th>\n",
       "      <td>0.000000</td>\n",
       "      <td>74.262500</td>\n",
       "      <td>227.750000</td>\n",
       "      <td>23.250000</td>\n",
       "      <td>7.130000</td>\n",
       "      <td>91.812500</td>\n",
       "      <td>1880.812500</td>\n",
       "      <td>50.893750</td>\n",
       "      <td>35.562500</td>\n",
       "      <td>94.812500</td>\n",
       "      <td>95.000000</td>\n",
       "      <td>2.698236e+10</td>\n",
       "      <td>1.124072e+07</td>\n",
       "      <td>13.725000</td>\n",
       "      <td>5490.517494</td>\n",
       "    </tr>\n",
       "    <tr>\n",
       "      <th>max</th>\n",
       "      <td>1.000000</td>\n",
       "      <td>82.518750</td>\n",
       "      <td>550.062500</td>\n",
       "      <td>1366.687500</td>\n",
       "      <td>13.497333</td>\n",
       "      <td>98.875000</td>\n",
       "      <td>65857.937500</td>\n",
       "      <td>69.431250</td>\n",
       "      <td>1812.500000</td>\n",
       "      <td>98.562500</td>\n",
       "      <td>98.937500</td>\n",
       "      <td>1.004677e+12</td>\n",
       "      <td>4.214677e+08</td>\n",
       "      <td>20.037500</td>\n",
       "      <td>63337.610450</td>\n",
       "    </tr>\n",
       "  </tbody>\n",
       "</table>\n",
       "</div>"
      ],
      "text/plain": [
       "       isDeveloped  Lifeexpectancy  AdultMortality  infantdeaths     Alcohol  \\\n",
       "count   133.000000      133.000000      133.000000    133.000000  133.000000   \n",
       "mean      0.142857       68.139709      174.300282     35.902726    4.436893   \n",
       "std       0.351250        9.254200       97.065845    133.819254    3.736886   \n",
       "min       0.000000       46.112500       18.750000      0.000000    0.010000   \n",
       "25%       0.000000       60.862500      114.312500      0.687500    1.074667   \n",
       "50%       0.000000       70.731250      154.312500      3.312500    3.807333   \n",
       "75%       0.000000       74.262500      227.750000     23.250000    7.130000   \n",
       "max       1.000000       82.518750      550.062500   1366.687500   13.497333   \n",
       "\n",
       "       HepatitisB       Measles         BMI  under-fivedeaths       Polio  \\\n",
       "count  133.000000    133.000000  133.000000        133.000000  133.000000   \n",
       "mean    77.272061   2657.467105   36.691964         49.817199   80.572006   \n",
       "std     17.174868   8473.612218   15.971021        181.414641   15.732438   \n",
       "min      9.000000      0.000000   12.875000          0.000000   32.875000   \n",
       "25%     66.500000     15.125000   19.293750          1.000000   69.625000   \n",
       "50%     79.600000    251.937500   39.743750          4.000000   84.375000   \n",
       "75%     91.812500   1880.812500   50.893750         35.562500   94.812500   \n",
       "max     98.875000  65857.937500   69.431250       1812.500000   98.562500   \n",
       "\n",
       "       Diphtheria           GDP    Population   Schooling    GDP_capita  \n",
       "count  133.000000  1.330000e+02  1.330000e+02  133.000000    133.000000  \n",
       "mean    80.699919  6.023285e+10  1.340066e+07   11.691823   5831.130877  \n",
       "std     16.431339  1.506979e+11  3.972571e+07    3.006460  10101.737928  \n",
       "min     26.812500  8.988098e+06  3.334250e+03    4.018750    117.466394  \n",
       "25%     70.500000  1.213512e+09  1.007302e+06    9.868750    685.958218  \n",
       "50%     84.500000  6.161290e+09  3.735507e+06   12.000000   2306.960717  \n",
       "75%     95.000000  2.698236e+10  1.124072e+07   13.725000   5490.517494  \n",
       "max     98.937500  1.004677e+12  4.214677e+08   20.037500  63337.610450  "
      ]
     },
     "execution_count": 5,
     "metadata": {},
     "output_type": "execute_result"
    }
   ],
   "source": [
    "# delete all NaN data in GDP_capita column.\n",
    "df_gdp = df_gdp.dropna()\n",
    "df_gdp.describe()"
   ]
  },
  {
   "cell_type": "markdown",
   "metadata": {},
   "source": [
    "### Part 2: Print a visualization of each distribution. Both regular (density) and cumulative. (15pts)\n",
    "\n",
    "Print each distribution is some type of visualization, also print the cumulative distribution. \n",
    "<ul>\n",
    "<li>5 points are for using some visualization that is effective.\n",
    "<li>5 points for formatting things in a nice layout. Hint: for whatever chart you use, look into some formatting options. Think of what to try to Google for an example for printing multiple charts, a grid of charts, etc... and try to adapt one to yours. There is also a way to do it using some thinkstats/thinkplot stuff. \n",
    "<li><b>5 points are for doing it in an efficient way - just listing off each column is lots of typing... Remember, the #1 trait of programmers is laziness with respect to repetitive tasks. If we are doing the same thing over and over with tiny changes, try to think of a condensed way to do this...</b>\n",
    "</ul>"
   ]
  },
  {
   "cell_type": "code",
   "execution_count": 6,
   "metadata": {},
   "outputs": [],
   "source": [
    "# hist_gdp = thinkstats2.Hist(df_gdp['GDP_capita'], label = 'GDP_capita')\n"
   ]
  },
  {
   "cell_type": "code",
   "execution_count": 7,
   "metadata": {},
   "outputs": [
    {
     "data": {
      "image/png": "[encoded data removed]",
      "text/plain": [
       "<Figure size 1080x360 with 1 Axes>"
      ]
     },
     "metadata": {
      "needs_background": "light"
     },
     "output_type": "display_data"
    }
   ],
   "source": [
    "# this graph shows that this data has some outliers.\n",
    "pmf_gdp = thinkstats2.Pmf(df_gdp['GDP_capita'], label = 'GDP_per_capita')\n",
    "\n",
    "thinkplot.Pmf(pmf_gdp)\n",
    "thinkplot.Config(xlabel='GDP_capita', ylabel='density')\n",
    "thinkplot.axvline(np.mean(pmf_gdp), color=\"red\")\n"
   ]
  },
  {
   "cell_type": "code",
   "execution_count": 8,
   "metadata": {},
   "outputs": [
    {
     "data": {
      "text/plain": [
       "<AxesSubplot:ylabel='Density'>"
      ]
     },
     "execution_count": 8,
     "metadata": {},
     "output_type": "execute_result"
    },
    {
     "data": {
      "image/png": "[encoded data removed]",
      "text/plain": [
       "<Figure size 1080x360 with 1 Axes>"
      ]
     },
     "metadata": {
      "needs_background": "light"
     },
     "output_type": "display_data"
    }
   ],
   "source": [
    "# visualization of KDE plot.\n",
    "kde_capita = df_gdp[['GDP_capita']]\n",
    "sns.kdeplot(data = kde_capita)"
   ]
  },
  {
   "cell_type": "code",
   "execution_count": 9,
   "metadata": {},
   "outputs": [
    {
     "data": {
      "text/plain": [
       "{'xscale': 'linear', 'yscale': 'linear'}"
      ]
     },
     "execution_count": 9,
     "metadata": {},
     "output_type": "execute_result"
    },
    {
     "data": {
      "image/png": "[encoded data removed]",
      "text/plain": [
       "<Figure size 1080x360 with 1 Axes>"
      ]
     },
     "metadata": {
      "needs_background": "light"
     },
     "output_type": "display_data"
    }
   ],
   "source": [
    "# visualization of CDF plot.\n",
    "cdf_capita = thinkstats2.Cdf(df_gdp['GDP_capita'])\n",
    "thinkplot.Cdf(cdf_capita)"
   ]
  },
  {
   "cell_type": "markdown",
   "metadata": {},
   "source": [
    "### Create an analytical distribution for SCHOOLING, and use it for a couple of things. (20pts)\n",
    "\n",
    "<ul>\n",
    "<li>5 points are for choosing an appropriate distribution. Please state it clearly somewhere.\n",
    "<li>10 points are for creating and visualizing the distribution. Do it <b>without</b> using a fit() method. Plot the emperical data on the same graph as the analytical distribution. \n",
    "<li>5 points are for using the distribution to predict the percentage of that have a schooling level within 1 year of Canada. \n",
    "</ul>"
   ]
  },
  {
   "cell_type": "code",
   "execution_count": 10,
   "metadata": {},
   "outputs": [
    {
     "data": {
      "text/plain": [
       "count    133.000000\n",
       "mean      11.691823\n",
       "std        3.006460\n",
       "min        4.018750\n",
       "25%        9.868750\n",
       "50%       12.000000\n",
       "75%       13.725000\n",
       "max       20.037500\n",
       "Name: Schooling, dtype: float64"
      ]
     },
     "execution_count": 10,
     "metadata": {},
     "output_type": "execute_result"
    }
   ],
   "source": [
    "#Analytical for Schooling\n",
    "# the mean is 11.69 and standard deviation is 3.00, which Schooling values are closer to the average.\n",
    "# use Schooling data is more accuate than GDP_capita.\n",
    "df_gdp['Schooling'].describe()"
   ]
  },
  {
   "cell_type": "code",
   "execution_count": 11,
   "metadata": {},
   "outputs": [
    {
     "name": "stderr",
     "output_type": "stream",
     "text": [
      "c:\\Users\\Elsa\\anaconda3\\lib\\site-packages\\seaborn\\distributions.py:2619: FutureWarning: `distplot` is a deprecated function and will be removed in a future version. Please adapt your code to use either `displot` (a figure-level function with similar flexibility) or `histplot` (an axes-level function for histograms).\n",
      "  warnings.warn(msg, FutureWarning)\n"
     ]
    },
    {
     "data": {
      "image/png": "[encoded data removed]",
      "text/plain": [
       "<Figure size 1080x360 with 1 Axes>"
      ]
     },
     "metadata": {
      "needs_background": "light"
     },
     "output_type": "display_data"
    }
   ],
   "source": [
    "sns.distplot(df_gdp['Schooling'], color = 'green', bins= 10)\n",
    "plt.show()"
   ]
  },
  {
   "cell_type": "code",
   "execution_count": 12,
   "metadata": {},
   "outputs": [],
   "source": [
    "# use the number of second quortile to draw \n",
    "dschool = df_gdp[df_gdp['Schooling'] > 12.0]\n",
    "dnschool = df_gdp[df_gdp['Schooling'] < 12.0]\n",
    "\n",
    "ds_life = dschool.Lifeexpectancy\n",
    "dns_life = dnschool.Lifeexpectancy"
   ]
  },
  {
   "cell_type": "code",
   "execution_count": 13,
   "metadata": {},
   "outputs": [
    {
     "data": {
      "text/plain": [
       "<AxesSubplot:xlabel='Lifeexpectancy', ylabel='Density'>"
      ]
     },
     "execution_count": 13,
     "metadata": {},
     "output_type": "execute_result"
    },
    {
     "data": {
      "image/png": "[encoded data removed]",
      "text/plain": [
       "<Figure size 1080x360 with 1 Axes>"
      ]
     },
     "metadata": {
      "needs_background": "light"
     },
     "output_type": "display_data"
    }
   ],
   "source": [
    "# Plot the emperical data with analytical distribution.\n",
    "sns.histplot(ds_life, kde=True, stat=\"density\")\n",
    "sns.histplot(dns_life, kde=True, stat=\"density\", color='red')"
   ]
  },
  {
   "cell_type": "code",
   "execution_count": 14,
   "metadata": {},
   "outputs": [
    {
     "name": "stdout",
     "output_type": "stream",
     "text": [
      "mean:  11.691823308270681\n",
      "median:  12.0\n",
      "std:  3.0064598793967483\n",
      "count:  133\n"
     ]
    }
   ],
   "source": [
    "#Get some basic schooling stats and save them in varaibles.\n",
    "#mean, standard deviation, median, and count.\n",
    "#  \n",
    "mean_school = df_gdp['Schooling'].mean()\n",
    "med_school = df_gdp['Schooling'].median()\n",
    "std_school = df_gdp['Schooling'].std()\n",
    "num_school = df_gdp['Schooling'].count()\n",
    "\n",
    "print('mean: ', mean_school)\n",
    "print('median: ', med_school)\n",
    "print('std: ', std_school)\n",
    "print('count: ', num_school)"
   ]
  },
  {
   "cell_type": "code",
   "execution_count": 15,
   "metadata": {},
   "outputs": [
    {
     "name": "stdout",
     "output_type": "stream",
     "text": [
      "   Country  isDeveloped  Lifeexpectancy  AdultMortality  infantdeaths  \\\n",
      "30  Canada          0.0         81.6875          64.625           2.0   \n",
      "\n",
      "     Alcohol  HepatitisB  Measles      BMI  under-fivedeaths    Polio  \\\n",
      "30  8.053333   28.846154    129.5  55.8625               2.0  85.3125   \n",
      "\n",
      "    Diphtheria           GDP    Population  Schooling    GDP_capita  \\\n",
      "30     91.0625  3.384881e+11  1.136405e+07     15.875  29785.859548   \n",
      "\n",
      "    percent_educate  \n",
      "30          0.00014  \n"
     ]
    }
   ],
   "source": [
    "# percentage of schooling level in Canada. \n",
    "# schooling people / population * 100 \n",
    "df_gdp['percent_educate'] = df_gdp['Schooling'] / df_gdp['Population'] * 100\n",
    "print(df_gdp[df_gdp['Country'].isin(['Canada'])])\n"
   ]
  },
  {
   "cell_type": "code",
   "execution_count": 16,
   "metadata": {},
   "outputs": [
    {
     "name": "stderr",
     "output_type": "stream",
     "text": [
      "c:\\Users\\Elsa\\anaconda3\\lib\\site-packages\\seaborn\\distributions.py:2619: FutureWarning: `distplot` is a deprecated function and will be removed in a future version. Please adapt your code to use either `displot` (a figure-level function with similar flexibility) or `histplot` (an axes-level function for histograms).\n",
      "  warnings.warn(msg, FutureWarning)\n"
     ]
    },
    {
     "data": {
      "image/png": "[encoded data removed]",
      "text/plain": [
       "<Figure size 1080x360 with 1 Axes>"
      ]
     },
     "metadata": {
      "needs_background": "light"
     },
     "output_type": "display_data"
    }
   ],
   "source": [
    "# using the distribution to predict the percentage of that have a schooling level within 1 year of Canada. \n",
    "sns.distplot(df_gdp['Schooling'], color = 'green', bins= 10)\n",
    "plt.show()"
   ]
  },
  {
   "cell_type": "markdown",
   "metadata": {},
   "source": [
    "### Part 3: Create another analytical distribution for GDP per Capita (20pts)\n",
    "\n",
    "<ul>\n",
    "<li>5 points are for choosing an appropriate distribution. Please state it clearly somewhere.\n",
    "<li>10 points are for creating and visualizing it alongside the emperical. You have free reign on how. \n",
    "<li>5 points are for using the analytical distribution to evaluate the quality of your GDP per capita metric - does it appear accurate? Why or why not?\n",
    "<li>If you've judged GDP per cap to be unreliable, drop it. \n",
    "</ul>"
   ]
  },
  {
   "cell_type": "code",
   "execution_count": 17,
   "metadata": {},
   "outputs": [
    {
     "data": {
      "image/png": "[encoded data removed]",
      "text/plain": [
       "<Figure size 1080x360 with 1 Axes>"
      ]
     },
     "metadata": {
      "needs_background": "light"
     },
     "output_type": "display_data"
    }
   ],
   "source": [
    "# Analytical for GDP/capita\n",
    "# use Normal probability plot.\n",
    "thinkstats2.NormalProbabilityPlot(df_gdp['GDP_capita'])\n"
   ]
  },
  {
   "cell_type": "code",
   "execution_count": 18,
   "metadata": {},
   "outputs": [
    {
     "name": "stderr",
     "output_type": "stream",
     "text": [
      "c:\\Users\\Elsa\\anaconda3\\lib\\site-packages\\seaborn\\distributions.py:2619: FutureWarning: `distplot` is a deprecated function and will be removed in a future version. Please adapt your code to use either `displot` (a figure-level function with similar flexibility) or `histplot` (an axes-level function for histograms).\n",
      "  warnings.warn(msg, FutureWarning)\n"
     ]
    },
    {
     "data": {
      "image/png": "[encoded data removed]",
      "text/plain": [
       "<Figure size 1080x360 with 1 Axes>"
      ]
     },
     "metadata": {
      "needs_background": "light"
     },
     "output_type": "display_data"
    }
   ],
   "source": [
    "# the normal distribution should form almost a straight line. \n",
    "# departures from this line indicate departues from normality.\n",
    "\n",
    "# use another analytical distribution to look at the GDP_capita data.\n",
    "sns.distplot(df_gdp['GDP_capita'], color=\"green\")\n",
    "plt.show()"
   ]
  },
  {
   "cell_type": "code",
   "execution_count": 19,
   "metadata": {},
   "outputs": [
    {
     "data": {
      "text/html": [
       "<div>\n",
       "<style scoped>\n",
       "    .dataframe tbody tr th:only-of-type {\n",
       "        vertical-align: middle;\n",
       "    }\n",
       "\n",
       "    .dataframe tbody tr th {\n",
       "        vertical-align: top;\n",
       "    }\n",
       "\n",
       "    .dataframe thead th {\n",
       "        text-align: right;\n",
       "    }\n",
       "</style>\n",
       "<table border=\"1\" class=\"dataframe\">\n",
       "  <thead>\n",
       "    <tr style=\"text-align: right;\">\n",
       "      <th></th>\n",
       "      <th>Country</th>\n",
       "      <th>isDeveloped</th>\n",
       "      <th>Lifeexpectancy</th>\n",
       "      <th>AdultMortality</th>\n",
       "      <th>infantdeaths</th>\n",
       "      <th>Alcohol</th>\n",
       "      <th>HepatitisB</th>\n",
       "      <th>Measles</th>\n",
       "      <th>BMI</th>\n",
       "      <th>under-fivedeaths</th>\n",
       "      <th>Polio</th>\n",
       "      <th>Diphtheria</th>\n",
       "      <th>GDP</th>\n",
       "      <th>Population</th>\n",
       "      <th>Schooling</th>\n",
       "      <th>percent_educate</th>\n",
       "    </tr>\n",
       "  </thead>\n",
       "  <tbody>\n",
       "    <tr>\n",
       "      <th>0</th>\n",
       "      <td>Afghanistan</td>\n",
       "      <td>0.0</td>\n",
       "      <td>58.19375</td>\n",
       "      <td>269.0625</td>\n",
       "      <td>78.2500</td>\n",
       "      <td>0.014375</td>\n",
       "      <td>64.562500</td>\n",
       "      <td>2362.2500</td>\n",
       "      <td>15.51875</td>\n",
       "      <td>107.5625</td>\n",
       "      <td>48.375</td>\n",
       "      <td>52.3125</td>\n",
       "      <td>4.136734e+09</td>\n",
       "      <td>9.972260e+06</td>\n",
       "      <td>8.21250</td>\n",
       "      <td>0.000082</td>\n",
       "    </tr>\n",
       "    <tr>\n",
       "      <th>1</th>\n",
       "      <td>Albania</td>\n",
       "      <td>0.0</td>\n",
       "      <td>75.15625</td>\n",
       "      <td>45.0625</td>\n",
       "      <td>0.6875</td>\n",
       "      <td>4.848750</td>\n",
       "      <td>98.000000</td>\n",
       "      <td>53.3750</td>\n",
       "      <td>49.06875</td>\n",
       "      <td>0.9375</td>\n",
       "      <td>98.125</td>\n",
       "      <td>98.0625</td>\n",
       "      <td>1.166938e+09</td>\n",
       "      <td>6.969116e+05</td>\n",
       "      <td>12.13750</td>\n",
       "      <td>0.001742</td>\n",
       "    </tr>\n",
       "    <tr>\n",
       "      <th>2</th>\n",
       "      <td>Algeria</td>\n",
       "      <td>0.0</td>\n",
       "      <td>73.61875</td>\n",
       "      <td>108.1875</td>\n",
       "      <td>20.3125</td>\n",
       "      <td>0.406667</td>\n",
       "      <td>78.000000</td>\n",
       "      <td>1943.8750</td>\n",
       "      <td>48.74375</td>\n",
       "      <td>23.5000</td>\n",
       "      <td>91.750</td>\n",
       "      <td>91.8750</td>\n",
       "      <td>7.345597e+10</td>\n",
       "      <td>2.164983e+07</td>\n",
       "      <td>12.71250</td>\n",
       "      <td>0.000059</td>\n",
       "    </tr>\n",
       "    <tr>\n",
       "      <th>3</th>\n",
       "      <td>Angola</td>\n",
       "      <td>0.0</td>\n",
       "      <td>49.01875</td>\n",
       "      <td>328.5625</td>\n",
       "      <td>83.7500</td>\n",
       "      <td>5.740667</td>\n",
       "      <td>70.222222</td>\n",
       "      <td>3561.3125</td>\n",
       "      <td>18.01875</td>\n",
       "      <td>132.6250</td>\n",
       "      <td>46.125</td>\n",
       "      <td>47.6875</td>\n",
       "      <td>2.177835e+10</td>\n",
       "      <td>1.014710e+07</td>\n",
       "      <td>8.04375</td>\n",
       "      <td>0.000079</td>\n",
       "    </tr>\n",
       "    <tr>\n",
       "      <th>5</th>\n",
       "      <td>Argentina</td>\n",
       "      <td>0.0</td>\n",
       "      <td>75.15625</td>\n",
       "      <td>106.0000</td>\n",
       "      <td>10.1250</td>\n",
       "      <td>7.966667</td>\n",
       "      <td>81.285714</td>\n",
       "      <td>2.0000</td>\n",
       "      <td>54.98125</td>\n",
       "      <td>11.3750</td>\n",
       "      <td>93.375</td>\n",
       "      <td>92.3750</td>\n",
       "      <td>1.641579e+11</td>\n",
       "      <td>2.012120e+07</td>\n",
       "      <td>16.50625</td>\n",
       "      <td>0.000082</td>\n",
       "    </tr>\n",
       "  </tbody>\n",
       "</table>\n",
       "</div>"
      ],
      "text/plain": [
       "       Country  isDeveloped  Lifeexpectancy  AdultMortality  infantdeaths  \\\n",
       "0  Afghanistan          0.0        58.19375        269.0625       78.2500   \n",
       "1      Albania          0.0        75.15625         45.0625        0.6875   \n",
       "2      Algeria          0.0        73.61875        108.1875       20.3125   \n",
       "3       Angola          0.0        49.01875        328.5625       83.7500   \n",
       "5    Argentina          0.0        75.15625        106.0000       10.1250   \n",
       "\n",
       "    Alcohol  HepatitisB    Measles       BMI  under-fivedeaths   Polio  \\\n",
       "0  0.014375   64.562500  2362.2500  15.51875          107.5625  48.375   \n",
       "1  4.848750   98.000000    53.3750  49.06875            0.9375  98.125   \n",
       "2  0.406667   78.000000  1943.8750  48.74375           23.5000  91.750   \n",
       "3  5.740667   70.222222  3561.3125  18.01875          132.6250  46.125   \n",
       "5  7.966667   81.285714     2.0000  54.98125           11.3750  93.375   \n",
       "\n",
       "   Diphtheria           GDP    Population  Schooling  percent_educate  \n",
       "0     52.3125  4.136734e+09  9.972260e+06    8.21250         0.000082  \n",
       "1     98.0625  1.166938e+09  6.969116e+05   12.13750         0.001742  \n",
       "2     91.8750  7.345597e+10  2.164983e+07   12.71250         0.000059  \n",
       "3     47.6875  2.177835e+10  1.014710e+07    8.04375         0.000079  \n",
       "5     92.3750  1.641579e+11  2.012120e+07   16.50625         0.000082  "
      ]
     },
     "execution_count": 19,
     "metadata": {},
     "output_type": "execute_result"
    }
   ],
   "source": [
    "# therefore, we should drop this data.\n",
    "drop_cap = df_gdp.drop(columns=['GDP_capita'])\n",
    "drop_cap.head()"
   ]
  },
  {
   "cell_type": "markdown",
   "metadata": {},
   "source": [
    "### Part 4: Visually identify correlations. Separate developed and not developed countries is some way. (15pts)\n",
    "\n",
    "<ul>\n",
    "<li>5 points are for effectively and clearly showing the visualizations used to evaluate correlations.\n",
    "<li>10 points are for, in the process of visualizing, remove outliers that confound correlations. List outlier \"filters\" you used and justify why - was the data an error, a real value that is just way out of line, or somethingn else? Remember, you're trying to find things that have correlations with each other. Looking at a correlation between home size and income may not benefit from Jeff Bezos being included. It may be helpful to look at the results and revise. \n",
    "</ul>"
   ]
  },
  {
   "cell_type": "code",
   "execution_count": 20,
   "metadata": {},
   "outputs": [],
   "source": [
    "#Visualize correlations. \n",
    "\n",
    "# create a dataframe for country is developed and is not developed.\n",
    "df_dev = df_gdp[df_gdp['isDeveloped'] == 1]\n",
    "df_ndev = df_gdp[df_gdp['isDeveloped'] == 0]\n",
    "df_ndev.shape\n",
    "dlife_dev = df_dev.Lifeexpectancy\n",
    "dlife_ndev = df_ndev.Lifeexpectancy"
   ]
  },
  {
   "cell_type": "code",
   "execution_count": 21,
   "metadata": {},
   "outputs": [
    {
     "name": "stdout",
     "output_type": "stream",
     "text": [
      "the mean of the countries are developed:  191219173390.69\n",
      "the mean of the countries are not developed:  38401794448.73\n"
     ]
    }
   ],
   "source": [
    "# show the mean of two type of countries.\n",
    "df_dev_gdp = df_gdp.loc[df_gdp['isDeveloped'] == 1, 'GDP']\n",
    "print('the mean of the countries are developed: ', '%.2f' %df_dev_gdp.mean())\n",
    "\n",
    "df_ndev_gdp = df_gdp.loc[df_gdp['isDeveloped'] == 0, 'GDP']\n",
    "print('the mean of the countries are not developed: ', '%.2f' %df_ndev_gdp.mean())"
   ]
  },
  {
   "cell_type": "code",
   "execution_count": 22,
   "metadata": {},
   "outputs": [
    {
     "data": {
      "text/plain": [
       "<AxesSubplot:xlabel='GDP', ylabel='Density'>"
      ]
     },
     "execution_count": 22,
     "metadata": {},
     "output_type": "execute_result"
    },
    {
     "data": {
      "image/png": "[encoded data removed]",
      "text/plain": [
       "<Figure size 1080x360 with 1 Axes>"
      ]
     },
     "metadata": {
      "needs_background": "light"
     },
     "output_type": "display_data"
    }
   ],
   "source": [
    "# plot the data\n",
    "sns.histplot(df_dev_gdp, kde = True, stat = \"density\", color = 'green')\n",
    "sns.histplot(df_ndev_gdp, kde = True, stat = \"density\", color = 'red')"
   ]
  },
  {
   "cell_type": "code",
   "execution_count": 23,
   "metadata": {},
   "outputs": [
    {
     "data": {
      "image/png": "[encoded data removed]",
      "text/plain": [
       "<Figure size 864x432 with 2 Axes>"
      ]
     },
     "metadata": {
      "needs_background": "light"
     },
     "output_type": "display_data"
    }
   ],
   "source": [
    "#Plot the means of the above distributions\n",
    "#sns.kdeplot(means, linestyle=\"dotted\")\n",
    "thinkplot.PrePlot(2,1,2)\n",
    "sns.histplot(df_dev_gdp)\n",
    "thinkplot.SubPlot(2)\n",
    "sns.histplot(df_ndev_gdp)\n",
    "thinkplot.Config()"
   ]
  },
  {
   "cell_type": "code",
   "execution_count": 24,
   "metadata": {},
   "outputs": [],
   "source": [
    "# the data in that non-developed countries has some errors. \n",
    "# The density is way out of other countries and developed countries."
   ]
  },
  {
   "cell_type": "markdown",
   "metadata": {},
   "source": [
    "### Part 5: Calculate correlations (25pts)\n",
    "\n",
    "<ul>\n",
    "<li>5 points are for identifying and calculating 3 strongest correlations with life expectancy for each of developed and not developed. \n",
    "<li>10 points are for analyzing those correlations. Do they appear to be supported by reality? Do you have reason to beleive any are causal?\n",
    "<li>10 points are for identifying 2 places where developing and developed countries have a substantially different relationship with respect to life expectancy, and theorizing why. What would be needed to confirm your thoughts?\n",
    "</ul>\n",
    "\n",
    "<b>Please put your written parts in markdown cells, with a little formatting to make them readable. "
   ]
  },
  {
   "cell_type": "code",
   "execution_count": 25,
   "metadata": {},
   "outputs": [],
   "source": [
    "#Calculate correlations and analyze. "
   ]
  }
 ],
 "metadata": {
  "kernelspec": {
   "display_name": "Python 3.9.12 ('base')",
   "language": "python",
   "name": "python3"
  },
  "language_info": {
   "codemirror_mode": {
    "name": "ipython",
    "version": 3
   },
   "file_extension": ".py",
   "mimetype": "text/x-python",
   "name": "python",
   "nbconvert_exporter": "python",
   "pygments_lexer": "ipython3",
   "version": "3.9.12"
  },
  "orig_nbformat": 4,
  "vscode": {
   "interpreter": {
    "hash": "40846f95e88ae24f681f7d79d7396bca459ce37b2ecada686cfbc3bbe9daaf0c"
   }
  }
 },
 "nbformat": 4,
 "nbformat_minor": 2
}
